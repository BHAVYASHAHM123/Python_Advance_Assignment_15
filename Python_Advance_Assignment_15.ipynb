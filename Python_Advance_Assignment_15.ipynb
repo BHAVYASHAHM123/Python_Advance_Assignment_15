{
  "nbformat": 4,
  "nbformat_minor": 0,
  "metadata": {
    "colab": {
      "name": "Python_Advance_Assignment_15.ipynb",
      "provenance": []
    },
    "kernelspec": {
      "name": "python3",
      "display_name": "Python 3"
    },
    "language_info": {
      "name": "python"
    }
  },
  "cells": [
    {
      "cell_type": "markdown",
      "source": [
        "Q1). What are the new features added in Python 3.8 version?\n",
        "\n",
        "Ans) f-strings now support “=”"
      ],
      "metadata": {
        "id": "5-htRVOCkytb"
      }
    },
    {
      "cell_type": "markdown",
      "source": [
        "Q2). What is monkey patching in Python?\n",
        "\n",
        "Ans) A monkey patch is a way for a program to extend or modify supporting system software locally"
      ],
      "metadata": {
        "id": "stTnue0Bkyp2"
      }
    },
    {
      "cell_type": "markdown",
      "source": [
        "Q3). What is the difference between a shallow copy and deep copy?\n",
        "\n",
        "Ans) A shallow copy constructs a new compound object and then inserts references into it to the objects found in the original.\n",
        "\n",
        " A deep copy constructs a new compound object and then, recursively, inserts copies into it of the objects found in the original."
      ],
      "metadata": {
        "id": "liApO6ETkynR"
      }
    },
    {
      "cell_type": "markdown",
      "source": [
        "Q4). What is the maximum possible length of an identifier?\n",
        "\n",
        "Ans) 31 characters"
      ],
      "metadata": {
        "id": "fAIw1nMskyks"
      }
    },
    {
      "cell_type": "markdown",
      "source": [
        "Q5). What is generator comprehension?\n",
        "\n",
        "Ans) A generator comprehension is a single-line specification for defining a generator in Python."
      ],
      "metadata": {
        "id": "_6Lery1Nkyhz"
      }
    },
    {
      "cell_type": "code",
      "execution_count": null,
      "metadata": {
        "id": "kQuxECJfkvEz"
      },
      "outputs": [],
      "source": [
        ""
      ]
    }
  ]
}